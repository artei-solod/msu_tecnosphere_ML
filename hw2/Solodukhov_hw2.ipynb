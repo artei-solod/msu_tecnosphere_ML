{
 "cells": [
  {
   "cell_type": "markdown",
   "metadata": {},
   "source": [
    "# Алгоритмы интеллектуальной обработки больших объемов данных\n",
    "## Домашнее задание №2: Линейные модели\n"
   ]
  },
  {
   "cell_type": "markdown",
   "metadata": {},
   "source": [
    "###### <hr\\>\n",
    "**Общая информация**\n",
    "\n",
    "**Срок сдачи:** 24 марта 18:00 Сдача **очная** на занятии. <br\\>\n",
    "\n",
    "\n",
    "Используйте данный Ipython Notebook при оформлении домашнего задания.\n",
    "\n",
    "**Штрафные баллы:**\n",
    "\n",
    "1. Невыполнение PEP8 -1 балл\n",
    "2. Отсутствие фамилии в имени скрипта (скрипт должен называться по аналогии со stroykova_hw2.ipynb) -1 балл\n",
    "3. Все строчки должны быть выполнены. Нужно, чтобы output команды можно было увидеть уже в git'е. В противном случае -1 балл\n",
    "4. При оформлении ДЗ нужно пользоваться данным файлом в качестве шаблона. Не нужно удалять и видоизменять написанный код и текст, если явно не указана такая возможность. В противном случае -1 балл\n",
    "<hr\\>"
   ]
  },
  {
   "cell_type": "code",
   "execution_count": 84,
   "metadata": {},
   "outputs": [],
   "source": [
    "import pandas as pd\n",
    "import numpy as np\n",
    "import matplotlib.pyplot as plt\n",
    "\n",
    "%matplotlib inline\n",
    "\n",
    "plt.style.use('ggplot')\n",
    "plt.rcParams['figure.figsize'] = (12,5)"
   ]
  },
  {
   "cell_type": "markdown",
   "metadata": {},
   "source": [
    "Здравствуйте, уважаемые студенты! \n",
    "\n",
    "В этом задании мы будем реализовать линейные модели. Необходимо реализовать линейную и логистическую регрессии с L2 регуляризацией"
   ]
  },
  {
   "cell_type": "markdown",
   "metadata": {},
   "source": [
    "# Теоретическое введение\n",
    "\n"
   ]
  },
  {
   "cell_type": "markdown",
   "metadata": {},
   "source": [
    "Линейная регрессия решает задачу регрессии и оптимизирует функцию потерь MSE \n",
    "\n",
    "$$L(w) =  \\frac{1}{N}\\left[\\sum_i (y_i - a_i) ^ 2 \\right], $$ где $y_i$ $-$ целевая функция,  $a_i = a(x_i) =  \\langle\\,x_i,w\\rangle ,$ $-$ предсказание алгоритма на объекте $x_i$, $w$ $-$ вектор весов (размерности $D$), $x_i$ $-$ вектор признаков (такой же размерности $D$).\n",
    "\n",
    "Не забываем, что здесь и далее  мы считаем, что в $x_i$ есть тождественный вектор единиц, ему соответствует вес $w_0$.\n"
   ]
  },
  {
   "cell_type": "markdown",
   "metadata": {},
   "source": [
    "Логистическая регрессия является линейным классификатором, который оптимизирует так называемый функционал log loss:"
   ]
  },
  {
   "cell_type": "markdown",
   "metadata": {},
   "source": [
    "$$L(w) = - \\frac{1}{N}\\left[\\sum_i y_i \\log a_i + ( 1 - y_i) \\log (1 - a_i) \\right],$$\n",
    "где  $y_i  \\in \\{0,1\\}$ $-$ метка класса, $a_i$ $-$ предсказание алгоритма на объекте $x_i$. Модель пытается предсказать апостериорую вероятность объекта принадлежать к классу \"1\":\n",
    "$$ p(y_i = 1 | x_i) = a(x_i) =  \\sigma( \\langle\\,x_i,w\\rangle ),$$\n",
    "$w$ $-$ вектор весов (размерности $D$), $x_i$ $-$ вектор признаков (такой же размерности $D$).\n",
    "\n",
    "Функция $\\sigma(x)$ $-$ нелинейная функция, пероводящее скалярное произведение объекта на веса в число $\\in (0,1)$ (мы же моделируем вероятность все-таки!)\n",
    "\n",
    "$$\\sigma(x) = \\frac{1}{1 + \\exp(-x)}$$\n",
    "\n",
    "Если внимательно посмотреть на функцию потерь, то можно заметить, что в зависимости от правильного ответа алгоритм штрафуется или функцией $-\\log a_i$, или функцией $-\\log (1 - a_i)$.\n",
    "\n"
   ]
  },
  {
   "cell_type": "markdown",
   "metadata": {},
   "source": [
    "Часто для решения проблем, которые так или иначе связаны с проблемой переобучения, в функционал качества добавляют слагаемое, которое называют ***регуляризацией***. Итоговый функционал для линейной регрессии тогда принимает вид:\n",
    "\n",
    "$$L(w) =  \\frac{1}{N}\\left[\\sum_i (y_i - a_i) ^ 2 \\right] + \\frac{1}{C}R(w) $$\n",
    "\n",
    "Для логистической: \n",
    "$$L(w) = - \\frac{1}{N}\\left[\\sum_i y_i \\log a_i + ( 1 - y_i) \\log (1 - a_i) \\right] +  \\frac{1}{C}R(w)$$\n",
    "\n",
    "Самое понятие регуляризации введено основателем ВМК академиком Тихоновым https://ru.wikipedia.org/wiki/Метод_регуляризации_Тихонова\n",
    "\n",
    "Идейно методика регуляризации заключается в следующем $-$ мы рассматриваем некорректно поставленную задачу (что это такое можно найти в интернете), для того чтобы сузить набор различных вариантов (лучшие из которых будут являться переобучением ) мы вводим дополнительные ограничения на множество искомых решений. На лекции Вы уже рассмотрели два варианта регуляризации.\n",
    "\n",
    "$L1$ регуляризация:\n",
    "$$R(w) = \\sum_{j=1}^{D}|w_j|$$\n",
    "$L2$ регуляризация:\n",
    "$$R(w) =  \\sum_{j=1}^{D}w_j^2$$\n",
    "\n",
    "С их помощью мы ограничиваем модель в  возможности выбора каких угодно весов минимизирующих наш лосс, модель уже не сможет подстроиться под данные как ей угодно. \n",
    "\n",
    "Вам нужно добавить соотвествущую Вашему варианту $L2$ регуляризацию.\n",
    "\n",
    "И так, мы поняли, какую функцию ошибки будем минимизировать, разобрались, как получить предсказания по объекту и обученным весам. Осталось разобраться, как получить оптимальные веса. Для этого нужно выбрать какой-то метод оптимизации.\n",
    "\n"
   ]
  },
  {
   "cell_type": "markdown",
   "metadata": {},
   "source": [
    "Градиентный спуск является самым популярным алгоритмом обучения линейных моделей. В этом задании Вам предложат реализовать стохастический градиентный спуск или  мини-батч градиентный спуск (мини-батч на русский язык довольно сложно перевести, многие переводят это как \"пакетный\", но мне не кажется этот перевод удачным). Далее нам потребуется определение **эпохи**.\n",
    "Эпохой в SGD и MB-GD называется один проход по **всем** объектам в обучающей выборки.\n",
    "* В SGD градиент расчитывается по одному случайному объекту. Сам алгоритм выглядит примерно так:\n",
    "        1) Перемешать выборку\n",
    "        2) Посчитать градиент функции потерь на одном объекте (далее один объект тоже будем называть батчем)\n",
    "        3) Сделать шаг спуска\n",
    "        4) Повторять 2) и 3) пока не пройдет максимальное число эпох.\n",
    "* В Mini Batch SGD - по подвыборке объектов. Сам алгоритм выглядит примерно так::\n",
    "        1) Перемешать выборку, выбрать размер мини-батча (от 1 до размера выборки)\n",
    "        2) Почитать градиент функции потерь по мини-батчу (не забыть поделить на  число объектов в мини-батче)\n",
    "        3) Сделать шаг спуска\n",
    "        4) Повторять 2) и 3) пока не пройдет максимальное число эпох.\n",
    "* Для отладки алгоритма реализуйте возможность  вывода средней ошибки на обучении модели по объектам (мини-батчам). После шага градиентного спуска посчитайте значение ошибки на объекте (или мини-батче), а затем усредните, например, по ста шагам. Если обучение проходит корректно, то мы должны увидеть, что каждые 100 шагов функция потерь уменьшается. \n",
    "* Правило останова - максимальное количество эпох\n",
    "    \n"
   ]
  },
  {
   "cell_type": "markdown",
   "metadata": {},
   "source": [
    "# Теоретические вопросы (2 балла)\n",
    "В этой части Вам будут предложены теоретичские вопросы и задачи по теме. Вы, конечно, можете списать их у своего товарища или найти решение в интернете, но учтите, что они обязательно войдут в теоретический коллоквиум. Лучше разобраться в теме сейчас и успешно ответить на коллоквиуме, чем списать, не разобравшись в материале, и быть терзаемым совестью. \n",
    "\n",
    "\n",
    "Формулы надо оформлять в формате **LaTeX**."
   ]
  },
  {
   "cell_type": "markdown",
   "metadata": {},
   "source": [
    "Задача 1. Градиент для линейной регрессии.\n",
    "* Выпишите формулу обновления весов для линейной регрессии с L2 регуляризацией для мини-батч градиентого спуска размера $n$:\n",
    "\n",
    "$$ w_{new} = w_{old} - ... $$\n",
    "\n",
    " Отнеситесь к этому пункту максимально серьезно, это Вам нужно будет реализовать в задании.\n",
    " \n",
    "Проанализруйте итоговую формулу градиента - как  интуитивно можно  описать, чему равен градиент?"
   ]
  },
  {
   "cell_type": "markdown",
   "metadata": {},
   "source": [
    "***Ваше решение здесь***\n",
    "\n",
    "$$ w_{new} = w_{old}  - \\frac{2f(k)}{N}  \\sum_{j= 1}^{N}x_{j}(\\langle\\,x,w_{old}\\rangle-y_{j}) -\\frac{2f(k)}{C}w_{old} $$\n",
    "\n",
    "* Если правильный ответ был  класс \"1\", а значение $\\langle\\,x_j,w_{old}\\rangle$ стремится к нулю, после шага градиентного спуска веса в среднем увеличатся.\n",
    "* Если правильный ответ был  класс \"0\", а значение $\\langle\\,x_j,w_{old}\\rangle$ стремится к единице, после шага градиентного спуска веса в среднем уменьшатся."
   ]
  },
  {
   "cell_type": "markdown",
   "metadata": {},
   "source": [
    "### Задача 2. Градиент для логистической регрессии.\n",
    "* Выпишите формулу обновления весов для логистической регрессии с L2 регуляризацией  для мини-батч градиентого спуска размера $n$:\n",
    "\n",
    "$$ w_{new} = w_{old} - ... $$\n",
    "\n",
    " Отнеситесь к этому пункту максимально серьезно, это Вам нужно будет реализовать в задании.\n",
    " \n",
    "Проанализруйте итоговую формулу градиента - как  интуитивно можно  описать, чему равен градиент? Как соотносится этот градиент с градиентом, возникающий в задаче линейной регрессии?\n",
    "\n",
    "Подсказка: Вам градиент, которой получается если “в лоб” продифференцировать,  надо немного преобразовать.\n",
    "Надо подставить, что $1 - \\sigma(w,x) $ это  $1 - a(x_i)$, а  $-\\sigma(w,x)$ это $0 - a(x_i)$.  Тогда получится свести к одной красивой формуле с линейной регрессией, которую программировать будет намного проще."
   ]
  },
  {
   "cell_type": "markdown",
   "metadata": {},
   "source": [
    "***Ваше решение здесь***\n",
    "$$ w_{new} = w_{old}  - \\frac{f(k)}{N}\\sum_j^N x_j \\left[ \\sigma(\\langle x, w_{old}\\rangle)  - y_j \\right] - 2f(k)\\frac{w_{old}}{C} $$\n",
    "* Если правильный ответ был  класс \"1\", а значение $a(x_i)$ близко к нулю, после шага градиентного спуска веса в среднем увеличатся.\n",
    "* Если правильный ответ был  класс \"0\", а значение $a(x_i)$ близко к  единице, после шага градиентного спуска веса в среднем уменьшатся.\n",
    "\n",
    "Все аналогично, но градиенты разные, потому что $\\langle x_i, w \\rangle$ !=  $ \\sigma(\\langle x_i, w\\rangle) $ "
   ]
  },
  {
   "cell_type": "markdown",
   "metadata": {},
   "source": [
    "Задача 3. Точное решение линейной регрессии\n",
    "\n",
    "На лекции было показано, что точное решение линейной регрессии имеет вид $w = (X^TX)^{-1}X^TY $. \n",
    "* Покажите, что это действительно является точкой минимума в случае, если матрица X имеет строк не меньше, чем столбцов и имеет полный ранг. Подсказка: посчитайте Гессиан и покажите, что в этом случае он положительно определен. \n",
    "* Выпишите точное решение для модели с $L2$ регуляризацией. Как L2 регуляризация помогает с точным решением где матрица X имеет линейно зависимые признаки?"
   ]
  },
  {
   "cell_type": "markdown",
   "metadata": {},
   "source": [
    "$$(X^TX)w-X^TY =0$$\n",
    "берем вторую производную по w\n",
    "$$X^TX=0$$\n",
    "В векторе $X$ все значение вещественны, $\\Rightarrow$ $X^TX$ положительно определенная, $\\Rightarrow$ все главные миноры положительны,  $\\Rightarrow$ $|X^TX|>0$,  $\\Rightarrow$ достаточное условие минимума выполнено.(Также есть теормеа что матрица $A$ положительно определена если существует такая матрица $X$ что $A = (X^TX)$ это значит что произведение $(X^TX)$ всегда положительно определено)\n",
    "\n",
    "$ \\frac{\\partial L(w)}{\\partial w_j} = -\\frac{2}{N}\\sum_i^N \\left[x_{i,j}*(y_i - \\langle\\,x_{i,j},w_j\\rangle ) \\right] + \\frac{1}{C}\\sum_{k=1}^{D} \\frac{\\partial w_k^2}{\\partial w_j} = 0 $\n",
    "\n",
    "$  -\\frac{1}{N}\\sum_i^N \\left[x_{i,j}*(y_i - \\langle\\,x_{i,j},w_j\\rangle ) \\right] + \\frac{1}{C} w_j = 0 $\n",
    "\n",
    "$(X^TX)w-X^TY+\\frac{1}{C}w =0$\n",
    "\n",
    "$w = (X^TX+\\frac{1}{C}E)^{-1}X^TY $"
   ]
  },
  {
   "cell_type": "markdown",
   "metadata": {},
   "source": [
    "Задача 4.  Предсказываем вероятности.\n",
    "\n",
    "Когда говорят о логистической регрессии, произносят фразу, что она \"предсказывает вероятности положительного класса\". Давайте разберемся, что же за этим стоит. Посчитаем математическое ожидание функции потерь и проверим, что предсказание алгоритма, оптимизирующее это мат. ожидание, будет являться вероятностью положительного класса. \n",
    "\n",
    "И так, функция потерь на объекте $x_i$, который имеет метку $y_i \\in \\{0,1\\}$  для предсказания $a(x_i)$ равна:\n",
    "$$L(y_i, b) =-[y_i == 1] \\log a(x_i)  - [y_i == 0] \\log(1 - a(x_i)) $$\n",
    "\n",
    "Где $[]$ означает индикатор $-$ он равен единице, если значение внутри него истинно, иначе он равен нулю. Тогда мат. ожидание при условии конкретного $x_i$  по определение мат. ожидания дискретной случайной величины:\n",
    "$$E(L | x_i) = -p(y_i = 1 |x_i ) \\log a(x_i)  - p(y_i = 0 | x_i) \\log( 1 - a(x_i))$$\n",
    "* Докажите, что значение $a(x_i)$, минимизирующее данное мат. ожидание, в точности равно $p(y_i = 1 |x_i)$, то есть равно вероятности положительного класса.\n",
    "\n",
    "Подсказка: возможно, придется воспользоваться, что  $p(y_i = 1 | x_i) + p(y_i = 0 | x_i) = 1$"
   ]
  },
  {
   "cell_type": "markdown",
   "metadata": {},
   "source": [
    "***Ваше решение здесь***"
   ]
  },
  {
   "cell_type": "markdown",
   "metadata": {},
   "source": [
    "Задача 5.  Смысл регуляризации.\n",
    "\n",
    "Нужно ли в L1/L2 регуляризации использовать свободный член $w_0$ (который не умножается ни на какой признак)?\n",
    "\n",
    "Подсказка: подумайте, для чего мы вводим $w_0$"
   ]
  },
  {
   "cell_type": "markdown",
   "metadata": {},
   "source": [
    "***Ваше решение здесь***"
   ]
  },
  {
   "cell_type": "markdown",
   "metadata": {},
   "source": [
    "#  Реализация линейной модели (4 балла)"
   ]
  },
  {
   "cell_type": "markdown",
   "metadata": {},
   "source": [
    "## Зачем нужны батчи?\n"
   ]
  },
  {
   "cell_type": "markdown",
   "metadata": {},
   "source": [
    "Как Вы могли заметить из теоретического введения, что в случае SGD, что в случа mini-batch GD,  на каждой итерации обновление весов  происходит только по небольшой части данных (1 пример в случае SGD, batch примеров в случае mini-batch). То есть для каждой итерации нам *** не нужна вся выборка***. Мы можем просто итерироваться по выборке, беря батч нужного размера (далее 1 объект тоже будем называть батчом).\n",
    "\n",
    "Легко заметить, что в этом случае нам не нужно загружать все данные в оперативную память, достаточно просто считать батч с диска, обновить веса, считать диска другой батч и так далее. В целях упрощения домашней работы, прямо с диска  мы считывать не будем, будем работать с обычными numpy array. \n",
    "\n",
    "\n",
    "\n"
   ]
  },
  {
   "cell_type": "markdown",
   "metadata": {},
   "source": [
    "## Немножко про генераторы в Python\n",
    "\n"
   ]
  },
  {
   "cell_type": "markdown",
   "metadata": {},
   "source": [
    "Идея считывания данных кусками удачно ложится на так называемые ***генераторы*** из языка Python. В данной работе Вам предлагается не только разобраться с логистической регрессией, но  и познакомиться с таким важным элементом языка.  При желании Вы можете убрать весь код, связанный с генераторами, и реализовать логистическую регрессию и без них, ***штрафоваться это никак не будет***. Главное, чтобы сама модель была реализована правильно, и все пункты были выполнены. \n",
    "\n",
    "Подробнее можно почитать вот тут https://anandology.com/python-practice-book/iterators.html\n"
   ]
  },
  {
   "cell_type": "markdown",
   "metadata": {},
   "source": [
    "К генератору стоит относиться просто как к функции, которая порождает не один объект, а целую последовательность объектов. Новое значение из последовательности генерируется с помощью ключевого слова ***yield***. Ниже Вы можете насладиться  генератором чисел Фибоначчи."
   ]
  },
  {
   "cell_type": "code",
   "execution_count": 85,
   "metadata": {},
   "outputs": [],
   "source": [
    "def fib(max_iter=4):\n",
    "    a, b = 0, 1\n",
    "    iter_num = 0\n",
    "    while 1:\n",
    "        yield a\n",
    "        a, b = b, a + b\n",
    "        iter_num += 1\n",
    "        if iter_num == max_iter:\n",
    "            break"
   ]
  },
  {
   "cell_type": "markdown",
   "metadata": {},
   "source": [
    "Вот так можно сгенерировать последовательность Фибоначчи. \n",
    "\n",
    "Заметьте, что к генераторам можно применять некоторые стандартные функции из Python, например enumerate."
   ]
  },
  {
   "cell_type": "code",
   "execution_count": 86,
   "metadata": {},
   "outputs": [
    {
     "name": "stdout",
     "output_type": "stream",
     "text": [
      "Fib num: 0 fib values: 0\n",
      "Fib num: 1 fib values: 1\n",
      "Fib num: 2 fib values: 1\n",
      "Fib num: 3 fib values: 2\n"
     ]
    }
   ],
   "source": [
    "new_generator = fib()\n",
    "for j, fib_val in enumerate(new_generator):\n",
    "    print (\"Fib num: \" + str(j) + \" fib values: \" + str(fib_val))"
   ]
  },
  {
   "cell_type": "markdown",
   "metadata": {},
   "source": [
    "Пересоздавая объект, можно сколько угодно раз генерировать заново последовательность. "
   ]
  },
  {
   "cell_type": "code",
   "execution_count": 87,
   "metadata": {},
   "outputs": [
    {
     "name": "stdout",
     "output_type": "stream",
     "text": [
      "Fib num: 0 fib values: 0\n",
      "Fib num: 1 fib values: 1\n",
      "Fib num: 2 fib values: 1\n",
      "Fib num: 3 fib values: 2\n",
      "Fib num: 0 fib values: 0\n",
      "Fib num: 1 fib values: 1\n",
      "Fib num: 2 fib values: 1\n",
      "Fib num: 3 fib values: 2\n",
      "Fib num: 0 fib values: 0\n",
      "Fib num: 1 fib values: 1\n",
      "Fib num: 2 fib values: 1\n",
      "Fib num: 3 fib values: 2\n"
     ]
    }
   ],
   "source": [
    "for i in range(0, 3):\n",
    "    new_generator = fib()\n",
    "    for j, fib_val in enumerate(new_generator):\n",
    "        print (\"Fib num: \" + str(j) + \" fib values: \" + str(fib_val))"
   ]
  },
  {
   "cell_type": "markdown",
   "metadata": {},
   "source": [
    "А вот так уже нельзя."
   ]
  },
  {
   "cell_type": "code",
   "execution_count": 88,
   "metadata": {},
   "outputs": [
    {
     "name": "stdout",
     "output_type": "stream",
     "text": [
      "Fib num: 0 fib values: 0\n",
      "Fib num: 1 fib values: 1\n",
      "Fib num: 2 fib values: 1\n",
      "Fib num: 3 fib values: 2\n"
     ]
    }
   ],
   "source": [
    "new_generator = fib()\n",
    "for i in range(0, 3):\n",
    "    for j, fib_val in enumerate(new_generator):\n",
    "        print (\"Fib num: \" + str(j) + \" fib values: \" + str(fib_val))"
   ]
  },
  {
   "cell_type": "markdown",
   "metadata": {},
   "source": [
    "Концепция крайне удобная для обучения  моделей $-$ у Вас есть некий источник данных, который Вам выдает их кусками, и Вам совершенно все равно откуда он их берет. Под ним может скрывать как массив в оперативной памяти, как файл на жестком диске, так и SQL база данных. Вы сами данные никуда не сохраняете, оперативную память экономите."
   ]
  },
  {
   "cell_type": "markdown",
   "metadata": {},
   "source": [
    "Если Вам понравилась идея с генераторами, то Вы можете реализовать свой, используя прототип batch_generator. В нем Вам нужно выдавать батчи признаков и ответов для каждой новой итерации спуска. Если не понравилась идея, то можете реализовывать SGD или mini-batch GD без генераторов."
   ]
  },
  {
   "cell_type": "code",
   "execution_count": 2,
   "metadata": {},
   "outputs": [],
   "source": [
    "def batch_generator(X, y, shuffle=True, batch_size=1):\n",
    "    \"\"\"\n",
    "    Гератор новых батчей для обучения\n",
    "    X          - матрица объекты-признаки\n",
    "    y_batch    - вектор ответов\n",
    "    shuffle    - нужно ли случайно перемешивать выборку\n",
    "    batch_size - размер батча ( 1 это SGD, > 1 mini-batch GD)\n",
    "    Генерирует подвыборку для итерации спуска (X_batch, y_batch)\n",
    "    \"\"\"\n",
    "    size=X.shape[0]\n",
    "    ind=np.arange(size)\n",
    "    if shuffle:\n",
    "        np.random.shuffle(ind)\n",
    "    for i in range(0, size, batch_size):\n",
    "        indx=ind[i : min(i+batch_size, size)]\n",
    "        X_batch = X[indx]\n",
    "        y_batch = y[indx]\n",
    "        yield (X_batch, y_batch)\n",
    "\n",
    "# Теперь можно сделать генератор по данным ()\n",
    "#  my_batch_generator = batch_generator(X, y, shuffle=True, batch_size=1):"
   ]
  },
  {
   "cell_type": "code",
   "execution_count": 3,
   "metadata": {},
   "outputs": [],
   "source": [
    "#%%pycodestyle\n",
    "\n",
    "def sigmoid(x):\n",
    "    \"\"\"\n",
    "    Вычисляем значение сигмоида.\n",
    "    X - выход линейной модели\n",
    "    \"\"\"\n",
    "    \n",
    "    sigm_value_x=1/(1+np.exp(-x))\n",
    "    return sigm_value_x\n",
    "\n",
    "\n",
    "from sklearn.base import BaseEstimator, ClassifierMixin\n",
    "\n",
    "class MySGDClassifier(BaseEstimator, ClassifierMixin):\n",
    "    \n",
    "    def __init__(self, batch_generator, C=1, alpha=0.01, max_epoch=10, model_type='lin_reg', batch_size=1):\n",
    "        \"\"\"\n",
    "        batch_generator -- функция генератор, которой будем создавать батчи\n",
    "        C - коэф. регуляризации\n",
    "        alpha - скорость спуска\n",
    "        max_epoch - максимальное количество эпох\n",
    "        model_type - тим модели, lin_reg или log_reg\n",
    "        \"\"\"\n",
    "        \n",
    "        self.C = C\n",
    "        self.alpha = alpha\n",
    "        self.max_epoch = max_epoch\n",
    "        self.batch_generator = batch_generator\n",
    "        self.errors_log = {'iter' : [], 'loss' : []}  \n",
    "        self.model_type = model_type\n",
    "        self.batch_size=batch_size\n",
    "        \n",
    "    def calc_loss(self, X_batch, y_batch):\n",
    "        \"\"\"\n",
    "        Считаем функцию потерь по батчу \n",
    "        X_batch - матрица объекты-признаки по батчу\n",
    "        y_batch - вектор ответов по батчу\n",
    "        Не забудте тип модели (линейная или логистическая регрессия)!\n",
    "        \"\"\"\n",
    "        if(self.model_type=='lin_reg'):\n",
    "            s=np.dot(X_batch,self.weights)\n",
    "            loss=np.sum((y_batch-s)**2)\n",
    "            loss/=X_batch.shape[0]\n",
    "            loss+=np.sum(self.weights**2)/self.C\n",
    "        if(self.model_type=='log_reg'):\n",
    "            sgm = sigmoid(np.dot(X_batch, self.weights))\n",
    "            loss = -np.sum(y_batch * np.log(sgm) + (1 - y_batch) * np.log(1 - sgm))\n",
    "            loss /= X_batch.shape[0]\n",
    "            loss += np.sum(self.weights ** 2) / self.C\n",
    "        return loss\n",
    "    \n",
    "    def calc_loss_grad(self, X_batch, y_batch):\n",
    "        \"\"\"\n",
    "        Считаем  градиент функции потерь по батчу (то что Вы вывели в задании 1)\n",
    "        X_batch - матрица объекты-признаки по батчу\n",
    "        y_batch - вектор ответов по батчу\n",
    "        Не забудте тип модели (линейная или логистическая регрессия)!\n",
    "        \"\"\"\n",
    "        if(self.model_type=='lin_reg'):\n",
    "            s=np.dot(X_batch, self.weights)\n",
    "            loss_grad = 2*np.dot(s - y_batch, X_batch) / X_batch.shape[0]\n",
    "            loss_grad+=2*self.weights/self.C\n",
    "        if(self.model_type=='log_reg'):\n",
    "            sgm = sigmoid(np.dot(X_batch, self.weights))\n",
    "            loss_grad = np.dot(sgm - y_batch, X_batch) / X_batch.shape[0]\n",
    "            loss_grad += 2 * self.weights / self.C\n",
    "        return loss_grad\n",
    "    \n",
    "    def update_weights(self, new_grad):\n",
    "        \"\"\"\n",
    "        Обновляем вектор весов\n",
    "        new_grad - градиент по батчу\n",
    "        \"\"\"\n",
    "        self.weights -= self.alpha * new_grad\n",
    "    \n",
    "    def fit(self, X, y):\n",
    "        '''\n",
    "        Обучение модели\n",
    "        X - матрица объекты-признаки\n",
    "        y - вектор ответов\n",
    "        '''\n",
    "        \n",
    "        # Нужно инициализровать случайно веса\n",
    "        _X = np.hstack((np.ones((X.shape[0], 1)), X)) # добавили w0 который единица \n",
    "        self.weights = np.random.uniform(-1, 1, _X.shape[1]) #можно конечно и нулями сделать\n",
    "        for n in range(0, self.max_epoch):\n",
    "            new_epoch_generator = self.batch_generator(_X,y, batch_size=self.batch_size)\n",
    "            for batch_num, new_batch in enumerate(new_epoch_generator):\n",
    "                X_batch = new_batch[0]\n",
    "                y_batch = new_batch[1]\n",
    "                batch_grad = self.calc_loss_grad(X_batch, y_batch)\n",
    "                batch_loss = self.calc_loss(X_batch, y_batch)\n",
    "                self.update_weights(batch_grad)\n",
    "                self.errors_log['iter'].append(batch_num)\n",
    "                self.errors_log['loss'].append(batch_loss)\n",
    "\n",
    "                \n",
    "        return self\n",
    "    \n",
    "    \n",
    "    def predict(self, X, i = 0):\n",
    "        '''\n",
    "        Предсказание класса\n",
    "        X - матрица объекты-признаки\n",
    "        Не забудте тип модели (линейная или логистическая регрессия)!\n",
    "        '''\n",
    "        if(self.model_type=='lin_reg'):\n",
    "            s=(self.predict_proba(X)>i).astype(int)\n",
    "        if(self.model_type=='log_reg'):\n",
    "            s=(self.predict_proba(X) > 0.39).astype(int)\n",
    "        return s\n",
    "     \n",
    "        \n",
    "    def predict_proba(self, X):\n",
    "        _X = np.hstack((np.ones((X.shape[0], 1)), X))\n",
    "        if(self.model_type=='lin_reg'):\n",
    "            s=np.dot(_X, self.weights)\n",
    "        if(self.model_type=='log_reg'):\n",
    "            s=sigmoid(np.dot(_X, self.weights))\n",
    "        return s"
   ]
  },
  {
   "cell_type": "markdown",
   "metadata": {},
   "source": [
    "Запустите обе регрессии на синтетических данных. \n",
    "\n",
    "\n",
    "Выведите полученные веса и нарисуйте разделяющую границу между классами (используйте только первых два веса для первых двух признаков X[:,0], X[:,1] для отображения в 2d пространство ).  "
   ]
  },
  {
   "cell_type": "code",
   "execution_count": 283,
   "metadata": {},
   "outputs": [],
   "source": [
    "def plot_decision_boundary(clf, lbl=None):\n",
    "    wts = clf.weights\n",
    "    x = np.linspace(-7, 10, num=2)\n",
    "    plt.plot(x, -(wts[1] * x + wts[0]) / wts[2], label='{}'.format(lbl))"
   ]
  },
  {
   "cell_type": "code",
   "execution_count": 187,
   "metadata": {},
   "outputs": [
    {
     "data": {
      "text/plain": [
       "<matplotlib.collections.PathCollection at 0x7f6b25f58890>"
      ]
     },
     "execution_count": 187,
     "metadata": {},
     "output_type": "execute_result"
    },
    {
     "data": {
      "image/png": "[encoded data removed]",
      "text/plain": [
       "<Figure size 864x360 with 1 Axes>"
      ]
     },
     "metadata": {},
     "output_type": "display_data"
    }
   ],
   "source": [
    "np.random.seed(0)\n",
    "\n",
    "C1 = np.array([[0., -0.8], [1.5, 0.8]])\n",
    "C2 = np.array([[1., -0.7], [2., 0.7]])\n",
    "gauss1 = np.dot(np.random.randn(200, 2) + np.array([5, 3]), C1)\n",
    "gauss2 = np.dot(np.random.randn(200, 2) + np.array([1.5, 0]), C2)\n",
    "\n",
    "X = np.vstack([gauss1, gauss2])\n",
    "y = np.r_[np.ones(200), np.zeros(200)]\n",
    "\n",
    "\n",
    "# plot_decision_boundary(your_model)\n",
    "myclf1 = MySGDClassifier(batch_generator, C=50, model_type='lin_reg')\n",
    "myclf1.fit(X, y)\n",
    "plot_decision_boundary(myclf1,'lin_reg')\n",
    "myclf2 = MySGDClassifier(batch_generator, C=10000, model_type='log_reg')\n",
    "myclf2.fit(X, y)\n",
    "plot_decision_boundary(myclf2,'log_reg')\n",
    "plt.legend()\n",
    "plt.scatter(X[:,0], X[:,1], c=y)"
   ]
  },
  {
   "cell_type": "markdown",
   "metadata": {},
   "source": [
    "Далее будем анализировать Ваш алгоритм. \n",
    "Для этих заданий используйте датасет ниже."
   ]
  },
  {
   "cell_type": "code",
   "execution_count": 188,
   "metadata": {},
   "outputs": [],
   "source": [
    "from sklearn.datasets import make_classification"
   ]
  },
  {
   "cell_type": "code",
   "execution_count": 189,
   "metadata": {},
   "outputs": [],
   "source": [
    "X, y = make_classification(n_samples=100000, n_features=10, \n",
    "                           n_informative=4, n_redundant=0, \n",
    "                           random_state=123, class_sep=1.0,\n",
    "                           n_clusters_per_class=1)"
   ]
  },
  {
   "cell_type": "markdown",
   "metadata": {},
   "source": [
    "Покажите сходимости обеих регрессией на этом датасете: изобразите график  функции потерь, усредненной по $N$ шагам градиентого спуска, для разных `alpha` (размеров шага). Разные `alpha` расположите на одном графике. \n",
    "\n",
    "$N$ можно брать 10, 50, 100 и т.д. "
   ]
  },
  {
   "cell_type": "code",
   "execution_count": 190,
   "metadata": {},
   "outputs": [
    {
     "data": {
      "image/png": "[encoded data removed]",
      "text/plain": [
       "<Figure size 720x360 with 1 Axes>"
      ]
     },
     "metadata": {},
     "output_type": "display_data"
    }
   ],
   "source": [
    "plt.figure(figsize=(10, 5))\n",
    "N = 500\n",
    "alpha = [0.01, 0.05, 0.1, 0.5]\n",
    "for a in alpha:\n",
    "    myclf_1 = MySGDClassifier(batch_generator, alpha=a, C=1000, model_type='log_reg')\n",
    "    myclf_1.fit(X, y)\n",
    "    m = []\n",
    "    for i in range(len(myclf_1.errors_log['loss']) // N):\n",
    "        m.append(np.sum(myclf_1.errors_log['loss'][i * N : (i + 1) * N]) / N)\n",
    "    plt.plot(np.arange(len(m)), m, label='alpha = {}'.format(a))\n",
    "plt.legend()\n",
    "plt.show()"
   ]
  },
  {
   "cell_type": "markdown",
   "metadata": {},
   "source": [
    "Что Вы можете сказать про сходимость метода при различных `alpha`? Какое значение стоит выбирать для лучшей сходимости?"
   ]
  },
  {
   "cell_type": "markdown",
   "metadata": {},
   "source": [
    "Изобразите график среднего значения весов для обеих регрессий в зависимости от коеф. регуляризации С из `np.logspace(3, -3, 10)` "
   ]
  },
  {
   "cell_type": "code",
   "execution_count": 14,
   "metadata": {},
   "outputs": [
    {
     "name": "stderr",
     "output_type": "stream",
     "text": [
      "/home/linuxconfig/anaconda3/envs/techno_code/lib/python3.7/site-packages/ipykernel_launcher.py:45: RuntimeWarning: overflow encountered in double_scalars\n",
      "/home/linuxconfig/anaconda3/envs/techno_code/lib/python3.7/site-packages/ipykernel_launcher.py:43: RuntimeWarning: overflow encountered in square\n",
      "/home/linuxconfig/anaconda3/envs/techno_code/lib/python3.7/site-packages/numpy/core/fromnumeric.py:90: RuntimeWarning: overflow encountered in reduce\n",
      "  return ufunc.reduce(obj, axis, dtype, out, **passkwargs)\n",
      "/home/linuxconfig/anaconda3/envs/techno_code/lib/python3.7/site-packages/ipykernel_launcher.py:45: RuntimeWarning: overflow encountered in square\n",
      "/home/linuxconfig/anaconda3/envs/techno_code/lib/python3.7/site-packages/ipykernel_launcher.py:63: RuntimeWarning: overflow encountered in true_divide\n",
      "/home/linuxconfig/anaconda3/envs/techno_code/lib/python3.7/site-packages/ipykernel_launcher.py:63: RuntimeWarning: invalid value encountered in add\n",
      "/home/linuxconfig/anaconda3/envs/techno_code/lib/python3.7/site-packages/ipykernel_launcher.py:75: RuntimeWarning: invalid value encountered in subtract\n"
     ]
    },
    {
     "data": {
      "image/png": "[encoded data removed]",
      "text/plain": [
       "<Figure size 1008x504 with 1 Axes>"
      ]
     },
     "metadata": {},
     "output_type": "display_data"
    }
   ],
   "source": [
    "plt.figure(figsize=(14, 7))\n",
    "ks = np.logspace(3, -3, 10)\n",
    "mw = np.zeros(ks.shape)\n",
    "\n",
    "for i, C in enumerate(ks):\n",
    "    myclf = MySGDClassifier(batch_generator, C=C)\n",
    "    myclf.fit(X, y)\n",
    "    mw[i] = myclf.weights.mean()\n",
    "    \n",
    "plt.plot(ks, mw)\n",
    "plt.show()"
   ]
  },
  {
   "cell_type": "markdown",
   "metadata": {},
   "source": [
    "Довольны ли Вы, насколько сильно уменьшились Ваши веса? "
   ]
  },
  {
   "cell_type": "markdown",
   "metadata": {},
   "source": [
    "# Боевое применение (4  балла)\n",
    "\n",
    "**Защита данной части возможна только при преодолении в проекте бейзлайна Handmade baseline.**"
   ]
  },
  {
   "cell_type": "markdown",
   "metadata": {},
   "source": [
    "Давайте применим модель на итоговом проекте! Датасет сделаем точно таким же образом, как было показано в project_overview.ipynb\n",
    "\n",
    "Применим обе регрессии, подберем для них параметры и сравним качество. Может быть Вы еще одновременно с решением домашней работы подрастете на лидерборде!"
   ]
  },
  {
   "cell_type": "code",
   "execution_count": 4,
   "metadata": {},
   "outputs": [
    {
     "name": "stdout",
     "output_type": "stream",
     "text": [
      "28026\n"
     ]
    }
   ],
   "source": [
    "doc_to_title = {}\n",
    "with open('docs_titles.tsv') as f:\n",
    "    for num_line, line in enumerate(f):\n",
    "        if num_line == 0:\n",
    "            continue\n",
    "        data = line.strip().split('\\t', 1)\n",
    "        doc_id = int(data[0])\n",
    "        if len(data) == 1:\n",
    "            title = ''\n",
    "        else:\n",
    "            title = data[1]\n",
    "        doc_to_title[doc_id] = title\n",
    "print (len(doc_to_title))\n"
   ]
  },
  {
   "cell_type": "code",
   "execution_count": 5,
   "metadata": {},
   "outputs": [],
   "source": [
    "import pandas as pd\n",
    "train_data = pd.read_csv('train_groups.csv')\n",
    "traingroups_titledata = {}\n",
    "for i in range(len(train_data)):\n",
    "    new_doc = train_data.iloc[i]\n",
    "    doc_group = new_doc['group_id']\n",
    "    doc_id = new_doc['doc_id']\n",
    "    target = new_doc['target']\n",
    "    title = doc_to_title[doc_id]\n",
    "    if doc_group not in traingroups_titledata:\n",
    "        traingroups_titledata[doc_group] = []\n",
    "    traingroups_titledata[doc_group].append((doc_id, title, target))"
   ]
  },
  {
   "cell_type": "code",
   "execution_count": 6,
   "metadata": {},
   "outputs": [
    {
     "name": "stdout",
     "output_type": "stream",
     "text": [
      "(11690, 15) (11690,) (11690,)\n"
     ]
    }
   ],
   "source": [
    "import numpy as np\n",
    "y_train = []\n",
    "X_train = []\n",
    "groups_train = []\n",
    "for new_group in traingroups_titledata:\n",
    "    docs = traingroups_titledata[new_group]\n",
    "    for k, (doc_id, title, target_id) in enumerate(docs):\n",
    "        y_train.append(target_id)\n",
    "        groups_train.append(new_group)\n",
    "        all_dist = []\n",
    "        words = set(title.strip().split())\n",
    "        for j in range(0, len(docs)):\n",
    "            if k == j:\n",
    "                continue\n",
    "            doc_id_j, title_j, target_j = docs[j]\n",
    "            words_j = set(title_j.strip().split())\n",
    "            all_dist.append(len(words.intersection(words_j)))\n",
    "        X_train.append(sorted(all_dist, reverse=True)[0:15])\n",
    "X_train = np.array(X_train)\n",
    "y_train = np.array(y_train)\n",
    "groups_train = np.array(groups_train)\n",
    "print (X_train.shape, y_train.shape, groups_train.shape)"
   ]
  },
  {
   "cell_type": "code",
   "execution_count": 7,
   "metadata": {},
   "outputs": [
    {
     "name": "stdout",
     "output_type": "stream",
     "text": [
      "(16627, 15) (16627,)\n"
     ]
    }
   ],
   "source": [
    "test_data = pd.read_csv('test_groups.csv')\n",
    "testgroups_titledata = {}\n",
    "for i in range(len(test_data)):\n",
    "    new_doc = test_data.iloc[i]\n",
    "    doc_group = new_doc['group_id']\n",
    "    doc_id = new_doc['doc_id']\n",
    "    pair_id = new_doc['pair_id']\n",
    "    title = doc_to_title[doc_id]\n",
    "    if doc_group not in testgroups_titledata:\n",
    "        testgroups_titledata[doc_group] = []\n",
    "    testgroups_titledata[doc_group].append((doc_id, title, pair_id))\n",
    "X_test = []\n",
    "y_test = []\n",
    "pair_ids=set()\n",
    "groups_test = []\n",
    "for new_group in testgroups_titledata:\n",
    "    docs = testgroups_titledata[new_group]\n",
    "    for k, (doc_id, title_j, pair_id) in enumerate(docs):\n",
    "        groups_test.append(new_group)\n",
    "        all_dist = []\n",
    "        words = set(title.strip().split())\n",
    "        for j in range(0, len(docs)):\n",
    "            if k == j:\n",
    "                continue\n",
    "            doc_id_j, title_j, pair_id = docs[j]\n",
    "            pair_ids.add(pair_id)\n",
    "            words_j = set(title_j.strip().split())\n",
    "            words_j_1 = []\n",
    "            all_dist.append(len(words.intersection(words_j)))\n",
    "        X_test.append(sorted(all_dist, reverse=True)[0:15])\n",
    "X_test = np.array(X_test)\n",
    "pair_ids=np.array(list(pair_ids))\n",
    "groups_test = np.array(groups_test)\n",
    "print (X_test.shape, groups_test.shape)"
   ]
  },
  {
   "cell_type": "markdown",
   "metadata": {},
   "source": [
    "Подберите размер батча для обучения. Линейная модель не должна учиться дольше нескольких минут. \n",
    "\n",
    "Не забывайте использовать скейлер!"
   ]
  },
  {
   "cell_type": "code",
   "execution_count": 8,
   "metadata": {},
   "outputs": [],
   "source": [
    "from sklearn.metrics import f1_score\n",
    "from sklearn.linear_model import LinearRegression\n",
    "from sklearn.preprocessing import StandardScaler\n",
    "from sklearn.model_selection import train_test_split\n",
    "from sklearn.model_selection import cross_val_score\n",
    "from sklearn.linear_model import LogisticRegression\n",
    "from sklearn.metrics import accuracy_score\n",
    "from sklearn.metrics import roc_auc_score"
   ]
  },
  {
   "cell_type": "code",
   "execution_count": 9,
   "metadata": {},
   "outputs": [],
   "source": [
    "scaler = StandardScaler()\n",
    "X_train = scaler.fit_transform(X_train)\n",
    "X_test = scaler.transform(X_test)"
   ]
  },
  {
   "cell_type": "code",
   "execution_count": 10,
   "metadata": {},
   "outputs": [],
   "source": [
    "X1,X2,y1,y2= train_test_split(X_train, y_train, test_size=0.45, shuffle=False)"
   ]
  },
  {
   "cell_type": "code",
   "execution_count": 253,
   "metadata": {},
   "outputs": [
    {
     "name": "stderr",
     "output_type": "stream",
     "text": [
      "/home/linuxconfig/anaconda3/envs/techno_code/lib/python3.7/site-packages/ipykernel_launcher.py:48: RuntimeWarning: divide by zero encountered in log\n",
      "/home/linuxconfig/anaconda3/envs/techno_code/lib/python3.7/site-packages/ipykernel_launcher.py:48: RuntimeWarning: invalid value encountered in multiply\n"
     ]
    },
    {
     "name": "stdout",
     "output_type": "stream",
     "text": [
      "0.5437898089171975 0.001 50 5 1\n",
      "0.4462086843810758 0.001 50 5 5\n",
      "0.42455956741671025 0.001 50 5 10\n",
      "0.40983606557377056 0.001 50 5 50\n",
      "0.45491923641703375 0.001 50 5 500\n",
      "0.45491923641703375 0.001 50 5 1000\n",
      "0.45491923641703375 0.001 50 5 5000\n",
      "0.6294227188081938 0.001 50 10 1\n",
      "0.54632668518051 0.001 50 10 5\n",
      "0.4708423326133909 0.001 50 10 10\n",
      "0.39950721576909537 0.001 50 10 50\n",
      "0.45491923641703375 0.001 50 10 500\n",
      "0.45491923641703375 0.001 50 10 1000\n",
      "0.45491923641703375 0.001 50 10 5000\n",
      "0.6369824163357911 0.001 50 20 1\n",
      "0.5461633155519082 0.001 50 20 5\n",
      "0.5069605568445475 0.001 50 20 10\n",
      "0.4242720026028957 0.001 50 20 50\n",
      "0.45491923641703375 0.001 50 20 500\n",
      "0.45491923641703375 0.001 50 20 1000\n",
      "0.45491923641703375 0.001 50 20 5000\n",
      "0.5581982740475689 0.001 50 50 1\n",
      "0.6327433628318585 0.001 50 50 5\n",
      "0.6067415730337079 0.001 50 50 10\n",
      "0.457606204829896 0.001 50 50 50\n",
      "0.4400502197112366 0.001 50 50 500\n",
      "0.45042579075425787 0.001 50 50 1000\n",
      "0.45491923641703375 0.001 50 50 5000\n",
      "0.6339514978601997 0.001 100 5 1\n",
      "0.462665736217725 0.001 100 5 5\n",
      "0.42438856355494314 0.001 100 5 10\n",
      "0.4273246055723397 0.001 100 5 50\n",
      "0.45491923641703375 0.001 100 5 500\n",
      "0.45491923641703375 0.001 100 5 1000\n",
      "0.45491923641703375 0.001 100 5 5000\n",
      "0.5932885906040269 0.001 100 10 1\n",
      "0.5339739190116678 0.001 100 10 5\n",
      "0.4624624624624624 0.001 100 10 10\n",
      "0.4320207421811699 0.001 100 10 50\n",
      "0.45491923641703375 0.001 100 10 500\n",
      "0.45491923641703375 0.001 100 10 1000\n",
      "0.45491923641703375 0.001 100 10 5000\n",
      "0.6470764617691155 0.001 100 20 1\n",
      "0.6144942123804731 0.001 100 20 5\n",
      "0.519605871707219 0.001 100 20 10\n",
      "0.40462023101155065 0.001 100 20 50\n",
      "0.45491923641703375 0.001 100 20 500\n",
      "0.45491923641703375 0.001 100 20 1000\n",
      "0.45491923641703375 0.001 100 20 5000\n",
      "0.6403968035271425 0.001 100 50 1\n",
      "0.6435277382645803 0.001 100 50 5\n",
      "0.6364906398435316 0.001 100 50 10\n",
      "0.44111204717775904 0.001 100 50 50\n",
      "0.44656426839126917 0.001 100 50 500\n",
      "0.45491923641703375 0.001 100 50 1000\n",
      "0.45491923641703375 0.001 100 50 5000\n",
      "0.5905541093343251 0.001 500 5 1\n",
      "0.45081693897965985 0.001 500 5 5\n",
      "0.413583760197306 0.001 500 5 10\n",
      "0.4211069095909247 0.001 500 5 50\n",
      "0.45491923641703375 0.001 500 5 500\n",
      "0.45491923641703375 0.001 500 5 1000\n",
      "0.45491923641703375 0.001 500 5 5000\n",
      "0.6436657681940702 0.001 500 10 1\n",
      "0.5046577561765897 0.001 500 10 5\n",
      "0.43747927031509126 0.001 500 10 10\n",
      "0.4238258877434135 0.001 500 10 50\n",
      "0.45491923641703375 0.001 500 10 500\n",
      "0.45491923641703375 0.001 500 10 1000\n",
      "0.45491923641703375 0.001 500 10 5000\n",
      "0.6281102891728313 0.001 500 20 1\n",
      "0.6353480378115154 0.001 500 20 5\n",
      "0.5486645540968764 0.001 500 20 10\n",
      "0.438188052698069 0.001 500 20 50\n",
      "0.45491923641703375 0.001 500 20 500\n",
      "0.45491923641703375 0.001 500 20 1000\n",
      "0.45491923641703375 0.001 500 20 5000\n",
      "0.6388157894736842 0.001 500 50 1\n",
      "0.6470588235294118 0.001 500 50 5\n",
      "0.6282467532467533 0.001 500 50 10\n",
      "0.44964871194379397 0.001 500 50 50\n",
      "0.4694932781799379 0.001 500 50 500\n",
      "0.45619201884847593 0.001 500 50 1000\n",
      "0.45491923641703375 0.001 500 50 5000\n",
      "0.6347305389221557 0.001 1000 5 1\n",
      "0.4444444444444444 0.001 1000 5 5\n",
      "0.42766476810414966 0.001 1000 5 10\n",
      "0.42496847414880207 0.001 1000 5 50\n",
      "0.45491923641703375 0.001 1000 5 500\n",
      "0.45491923641703375 0.001 1000 5 1000\n",
      "0.45491923641703375 0.001 1000 5 5000\n",
      "0.648504589872668 0.001 1000 10 1\n",
      "0.5180032733224222 0.001 1000 10 5\n",
      "0.46484375 0.001 1000 10 10\n",
      "0.41625207296849087 0.001 1000 10 50\n",
      "0.45491923641703375 0.001 1000 10 500\n",
      "0.45491923641703375 0.001 1000 10 1000\n",
      "0.45491923641703375 0.001 1000 10 5000\n",
      "0.5961538461538461 0.001 1000 20 1\n",
      "0.6343740881237234 0.001 1000 20 5\n",
      "0.5524027459954234 0.001 1000 20 10\n",
      "0.4308141657539247 0.001 1000 20 50\n",
      "0.45491923641703375 0.001 1000 20 500\n",
      "0.45491923641703375 0.001 1000 20 1000\n",
      "0.45491923641703375 0.001 1000 20 5000\n",
      "0.6497695852534562 0.001 1000 50 1\n",
      "0.6495972382048332 0.001 1000 50 5\n",
      "0.6360998258850842 0.001 1000 50 10\n",
      "0.4297928313054916 0.001 1000 50 50\n",
      "0.41248720573183223 0.001 1000 50 500\n",
      "0.45491923641703375 0.001 1000 50 1000\n",
      "0.45491923641703375 0.001 1000 50 5000\n",
      "0.6407298094982559 0.001 5000 5 1\n",
      "0.47038980509745126 0.001 5000 5 5\n",
      "0.4314357321876119 0.001 5000 5 10\n",
      "0.4365108575634891 0.001 5000 5 50\n",
      "0.45491923641703375 0.001 5000 5 500\n",
      "0.45491923641703375 0.001 5000 5 1000\n",
      "0.45491923641703375 0.001 5000 5 5000\n",
      "0.6412542268675069 0.001 5000 10 1\n",
      "0.5398633257403189 0.001 5000 10 5\n",
      "0.44195138534761175 0.001 5000 10 10\n",
      "0.4234539297807878 0.001 5000 10 50\n",
      "0.45491923641703375 0.001 5000 10 500\n",
      "0.45491923641703375 0.001 5000 10 1000\n",
      "0.45491923641703375 0.001 5000 10 5000\n",
      "0.6432601880877743 0.001 5000 20 1\n",
      "0.6418764302059496 0.001 5000 20 5\n",
      "0.5559218868881562 0.001 5000 20 10\n",
      "0.4379536201097539 0.001 5000 20 50\n",
      "0.45491923641703375 0.001 5000 20 500\n",
      "0.45491923641703375 0.001 5000 20 1000\n",
      "0.45491923641703375 0.001 5000 20 5000\n",
      "0.6480541455160744 0.001 5000 50 1\n",
      "0.6501809408926418 0.001 5000 50 5\n",
      "0.6439109054093145 0.001 5000 50 10\n",
      "0.452975691533948 0.001 5000 50 50\n",
      "0.41671018276762406 0.001 5000 50 500\n",
      "0.45532039976484423 0.001 5000 50 1000\n",
      "0.45491923641703375 0.001 5000 50 5000\n",
      "0.276047261009667 0.01 50 5 1\n",
      "0.5434739552386612 0.01 50 5 5\n",
      "0.5602634467618002 0.01 50 5 10\n",
      "0.46416650304339285 0.01 50 5 50\n",
      "0.4335278858625162 0.01 50 5 500\n",
      "0.43823529411764706 0.01 50 5 1000\n",
      "0.45491923641703375 0.01 50 5 5000\n",
      "0.5089768171518215 0.01 50 10 1\n",
      "0.6288720046756284 0.01 50 10 5\n",
      "0.5584250635055038 0.01 50 10 10\n",
      "0.5262317973269499 0.01 50 10 50\n",
      "0.4136125654450262 0.01 50 10 500\n",
      "0.4113312592107418 0.01 50 10 1000\n",
      "0.4550528789659224 0.01 50 10 5000\n",
      "0.5165775401069519 0.01 50 20 1\n",
      "0.6350425006854948 0.01 50 20 5\n",
      "0.5990846681922197 0.01 50 20 10\n",
      "0.5548699867783164 0.01 50 20 50\n",
      "0.41911643948103133 0.01 50 20 500\n",
      "0.4116511668713809 0.01 50 20 1000\n",
      "0.45666273584905664 0.01 50 20 5000\n",
      "0.6442105263157896 0.01 50 50 1\n",
      "0.6299799369446832 0.01 50 50 5\n",
      "0.5456740442655935 0.01 50 50 10\n",
      "0.5994331601322627 0.01 50 50 50\n",
      "0.44894486044928517 0.01 50 50 500\n",
      "0.4294342021614749 0.01 50 50 1000\n",
      "0.42330036112419533 0.01 50 50 5000\n",
      "0.3150826446280992 0.01 100 5 1\n",
      "0.6419970631424377 0.01 100 5 5\n",
      "0.6181181181181182 0.01 100 5 10\n",
      "0.4550981413930867 0.01 100 5 50\n",
      "0.4100458063497078 0.01 100 5 500\n",
      "0.45475910693301996 0.01 100 5 1000\n",
      "0.45491923641703375 0.01 100 5 5000\n",
      "0.5820146661520649 0.01 100 10 1\n",
      "0.6471314003701419 0.01 100 10 5\n",
      "0.635135135135135 0.01 100 10 10\n",
      "0.5177059276366435 0.01 100 10 50\n",
      "0.41134751773049644 0.01 100 10 500\n",
      "0.41684008323995514 0.01 100 10 1000\n",
      "0.45491923641703375 0.01 100 10 5000\n",
      "0.605253688377114 0.01 100 20 1\n",
      "0.5929738196464533 0.01 100 20 5\n",
      "0.6482164821648218 0.01 100 20 10\n",
      "0.6341599331290053 0.01 100 20 50\n",
      "0.4060512291559223 0.01 100 20 500\n",
      "0.41266073194856573 0.01 100 20 1000\n",
      "0.4552271724746361 0.01 100 20 5000\n",
      "0.6255411255411254 0.01 100 50 1\n",
      "0.5716523101018011 0.01 100 50 5\n",
      "0.6464208242950109 0.01 100 50 10\n",
      "0.6435366536094012 0.01 100 50 50\n",
      "0.4677474991376336 0.01 100 50 500\n",
      "0.43743500866551127 0.01 100 50 1000\n",
      "0.4256026600166251 0.01 100 50 5000\n",
      "0.5946354363430298 0.01 500 5 1\n",
      "0.5516129032258065 0.01 500 5 5\n",
      "0.642814549791294 0.01 500 5 10\n",
      "0.42316413744985165 0.01 500 5 50\n",
      "0.42267050912584053 0.01 500 5 500\n",
      "0.45733272919498563 0.01 500 5 1000\n",
      "0.45491923641703375 0.01 500 5 5000\n",
      "0.6380741560597676 0.01 500 10 1\n",
      "0.649706457925636 0.01 500 10 5\n",
      "0.6458273587611126 0.01 500 10 10\n",
      "0.5173333333333333 0.01 500 10 50\n",
      "0.41727082326405673 0.01 500 10 500\n",
      "0.4312688821752266 0.01 500 10 1000\n",
      "0.45491923641703375 0.01 500 10 5000\n",
      "0.5506329113924051 0.01 500 20 1\n",
      "0.6493206128939 0.01 500 20 5\n",
      "0.6459402354361606 0.01 500 20 10\n",
      "0.6342794759825326 0.01 500 20 50\n",
      "0.45337423312883435 0.01 500 20 500\n",
      "0.4382274862160506 0.01 500 20 1000\n",
      "0.4514125129418725 0.01 500 20 5000\n",
      "0.6410587475790833 0.01 500 50 1\n",
      "0.6424340333871837 0.01 500 50 5\n"
     ]
    },
    {
     "ename": "KeyboardInterrupt",
     "evalue": "",
     "output_type": "error",
     "traceback": [
      "\u001b[0;31m---------------------------------------------------------------------------\u001b[0m",
      "\u001b[0;31mKeyboardInterrupt\u001b[0m                         Traceback (most recent call last)",
      "\u001b[0;32m<ipython-input-253-35f244e21be6>\u001b[0m in \u001b[0;36m<module>\u001b[0;34m\u001b[0m\n\u001b[1;32m     10\u001b[0m             \u001b[0;32mfor\u001b[0m \u001b[0mbatch\u001b[0m \u001b[0;32min\u001b[0m \u001b[0mbatchs\u001b[0m\u001b[0;34m:\u001b[0m\u001b[0;34m\u001b[0m\u001b[0;34m\u001b[0m\u001b[0m\n\u001b[1;32m     11\u001b[0m                 \u001b[0mmyclf\u001b[0m \u001b[0;34m=\u001b[0m \u001b[0mMySGDClassifier\u001b[0m\u001b[0;34m(\u001b[0m\u001b[0mbatch_generator\u001b[0m\u001b[0;34m,\u001b[0m \u001b[0malpha\u001b[0m\u001b[0;34m=\u001b[0m\u001b[0ma\u001b[0m\u001b[0;34m,\u001b[0m \u001b[0mC\u001b[0m\u001b[0;34m=\u001b[0m\u001b[0mci\u001b[0m\u001b[0;34m,\u001b[0m\u001b[0mmax_epoch\u001b[0m\u001b[0;34m=\u001b[0m\u001b[0me\u001b[0m\u001b[0;34m,\u001b[0m \u001b[0mmodel_type\u001b[0m\u001b[0;34m=\u001b[0m\u001b[0;34m'log_reg'\u001b[0m\u001b[0;34m,\u001b[0m \u001b[0mbatch_size\u001b[0m\u001b[0;34m=\u001b[0m\u001b[0mbatch\u001b[0m\u001b[0;34m)\u001b[0m\u001b[0;34m\u001b[0m\u001b[0;34m\u001b[0m\u001b[0m\n\u001b[0;32m---> 12\u001b[0;31m                 \u001b[0mmyclf\u001b[0m\u001b[0;34m.\u001b[0m\u001b[0mfit\u001b[0m\u001b[0;34m(\u001b[0m\u001b[0mX1\u001b[0m\u001b[0;34m,\u001b[0m \u001b[0my1\u001b[0m\u001b[0;34m)\u001b[0m\u001b[0;34m\u001b[0m\u001b[0;34m\u001b[0m\u001b[0m\n\u001b[0m\u001b[1;32m     13\u001b[0m                 \u001b[0mres\u001b[0m\u001b[0;34m.\u001b[0m\u001b[0mappend\u001b[0m\u001b[0;34m(\u001b[0m\u001b[0;34m[\u001b[0m\u001b[0mf1_score\u001b[0m\u001b[0;34m(\u001b[0m\u001b[0my2\u001b[0m\u001b[0;34m,\u001b[0m \u001b[0mmyclf\u001b[0m\u001b[0;34m.\u001b[0m\u001b[0mpredict\u001b[0m\u001b[0;34m(\u001b[0m\u001b[0mX2\u001b[0m\u001b[0;34m)\u001b[0m\u001b[0;34m)\u001b[0m\u001b[0;34m,\u001b[0m \u001b[0ma\u001b[0m\u001b[0;34m,\u001b[0m \u001b[0mci\u001b[0m\u001b[0;34m,\u001b[0m \u001b[0me\u001b[0m\u001b[0;34m,\u001b[0m \u001b[0mbatch\u001b[0m\u001b[0;34m]\u001b[0m\u001b[0;34m)\u001b[0m\u001b[0;34m\u001b[0m\u001b[0;34m\u001b[0m\u001b[0m\n\u001b[1;32m     14\u001b[0m                 \u001b[0mprint\u001b[0m\u001b[0;34m(\u001b[0m\u001b[0mf1_score\u001b[0m\u001b[0;34m(\u001b[0m\u001b[0my2\u001b[0m\u001b[0;34m,\u001b[0m \u001b[0mmyclf\u001b[0m\u001b[0;34m.\u001b[0m\u001b[0mpredict\u001b[0m\u001b[0;34m(\u001b[0m\u001b[0mX2\u001b[0m\u001b[0;34m)\u001b[0m\u001b[0;34m)\u001b[0m\u001b[0;34m,\u001b[0m \u001b[0ma\u001b[0m\u001b[0;34m,\u001b[0m \u001b[0mci\u001b[0m\u001b[0;34m,\u001b[0m \u001b[0me\u001b[0m\u001b[0;34m,\u001b[0m \u001b[0mbatch\u001b[0m\u001b[0;34m)\u001b[0m\u001b[0;34m\u001b[0m\u001b[0;34m\u001b[0m\u001b[0m\n",
      "\u001b[0;32m<ipython-input-248-d6bfaede85b8>\u001b[0m in \u001b[0;36mfit\u001b[0;34m(self, X, y)\u001b[0m\n\u001b[1;32m     90\u001b[0m                 \u001b[0mX_batch\u001b[0m \u001b[0;34m=\u001b[0m \u001b[0mnew_batch\u001b[0m\u001b[0;34m[\u001b[0m\u001b[0;36m0\u001b[0m\u001b[0;34m]\u001b[0m\u001b[0;34m\u001b[0m\u001b[0;34m\u001b[0m\u001b[0m\n\u001b[1;32m     91\u001b[0m                 \u001b[0my_batch\u001b[0m \u001b[0;34m=\u001b[0m \u001b[0mnew_batch\u001b[0m\u001b[0;34m[\u001b[0m\u001b[0;36m1\u001b[0m\u001b[0;34m]\u001b[0m\u001b[0;34m\u001b[0m\u001b[0;34m\u001b[0m\u001b[0m\n\u001b[0;32m---> 92\u001b[0;31m                 \u001b[0mbatch_grad\u001b[0m \u001b[0;34m=\u001b[0m \u001b[0mself\u001b[0m\u001b[0;34m.\u001b[0m\u001b[0mcalc_loss_grad\u001b[0m\u001b[0;34m(\u001b[0m\u001b[0mX_batch\u001b[0m\u001b[0;34m,\u001b[0m \u001b[0my_batch\u001b[0m\u001b[0;34m)\u001b[0m\u001b[0;34m\u001b[0m\u001b[0;34m\u001b[0m\u001b[0m\n\u001b[0m\u001b[1;32m     93\u001b[0m                 \u001b[0mbatch_loss\u001b[0m \u001b[0;34m=\u001b[0m \u001b[0mself\u001b[0m\u001b[0;34m.\u001b[0m\u001b[0mcalc_loss\u001b[0m\u001b[0;34m(\u001b[0m\u001b[0mX_batch\u001b[0m\u001b[0;34m,\u001b[0m \u001b[0my_batch\u001b[0m\u001b[0;34m)\u001b[0m\u001b[0;34m\u001b[0m\u001b[0;34m\u001b[0m\u001b[0m\n\u001b[1;32m     94\u001b[0m                 \u001b[0mself\u001b[0m\u001b[0;34m.\u001b[0m\u001b[0mupdate_weights\u001b[0m\u001b[0;34m(\u001b[0m\u001b[0mbatch_grad\u001b[0m\u001b[0;34m)\u001b[0m\u001b[0;34m\u001b[0m\u001b[0;34m\u001b[0m\u001b[0m\n",
      "\u001b[0;32m<ipython-input-248-d6bfaede85b8>\u001b[0m in \u001b[0;36mcalc_loss_grad\u001b[0;34m(self, X_batch, y_batch)\u001b[0m\n\u001b[1;32m     63\u001b[0m             \u001b[0mloss_grad\u001b[0m\u001b[0;34m+=\u001b[0m\u001b[0;36m2\u001b[0m\u001b[0;34m*\u001b[0m\u001b[0mself\u001b[0m\u001b[0;34m.\u001b[0m\u001b[0mweights\u001b[0m\u001b[0;34m/\u001b[0m\u001b[0mself\u001b[0m\u001b[0;34m.\u001b[0m\u001b[0mC\u001b[0m\u001b[0;34m\u001b[0m\u001b[0;34m\u001b[0m\u001b[0m\n\u001b[1;32m     64\u001b[0m         \u001b[0;32mif\u001b[0m\u001b[0;34m(\u001b[0m\u001b[0mself\u001b[0m\u001b[0;34m.\u001b[0m\u001b[0mmodel_type\u001b[0m\u001b[0;34m==\u001b[0m\u001b[0;34m'log_reg'\u001b[0m\u001b[0;34m)\u001b[0m\u001b[0;34m:\u001b[0m\u001b[0;34m\u001b[0m\u001b[0;34m\u001b[0m\u001b[0m\n\u001b[0;32m---> 65\u001b[0;31m             \u001b[0msgm\u001b[0m \u001b[0;34m=\u001b[0m \u001b[0msigmoid\u001b[0m\u001b[0;34m(\u001b[0m\u001b[0mnp\u001b[0m\u001b[0;34m.\u001b[0m\u001b[0mdot\u001b[0m\u001b[0;34m(\u001b[0m\u001b[0mX_batch\u001b[0m\u001b[0;34m,\u001b[0m \u001b[0mself\u001b[0m\u001b[0;34m.\u001b[0m\u001b[0mweights\u001b[0m\u001b[0;34m)\u001b[0m\u001b[0;34m)\u001b[0m\u001b[0;34m\u001b[0m\u001b[0;34m\u001b[0m\u001b[0m\n\u001b[0m\u001b[1;32m     66\u001b[0m             \u001b[0mloss_grad\u001b[0m \u001b[0;34m=\u001b[0m \u001b[0mnp\u001b[0m\u001b[0;34m.\u001b[0m\u001b[0mdot\u001b[0m\u001b[0;34m(\u001b[0m\u001b[0msgm\u001b[0m \u001b[0;34m-\u001b[0m \u001b[0my_batch\u001b[0m\u001b[0;34m,\u001b[0m \u001b[0mX_batch\u001b[0m\u001b[0;34m)\u001b[0m \u001b[0;34m/\u001b[0m \u001b[0mX_batch\u001b[0m\u001b[0;34m.\u001b[0m\u001b[0mshape\u001b[0m\u001b[0;34m[\u001b[0m\u001b[0;36m0\u001b[0m\u001b[0;34m]\u001b[0m\u001b[0;34m\u001b[0m\u001b[0;34m\u001b[0m\u001b[0m\n\u001b[1;32m     67\u001b[0m             \u001b[0mloss_grad\u001b[0m \u001b[0;34m+=\u001b[0m \u001b[0;36m2\u001b[0m \u001b[0;34m*\u001b[0m \u001b[0mself\u001b[0m\u001b[0;34m.\u001b[0m\u001b[0mweights\u001b[0m \u001b[0;34m/\u001b[0m \u001b[0mself\u001b[0m\u001b[0;34m.\u001b[0m\u001b[0mC\u001b[0m\u001b[0;34m\u001b[0m\u001b[0;34m\u001b[0m\u001b[0m\n",
      "\u001b[0;32m<ipython-input-248-d6bfaede85b8>\u001b[0m in \u001b[0;36msigmoid\u001b[0;34m(x)\u001b[0m\n\u001b[1;32m      7\u001b[0m     \"\"\"\n\u001b[1;32m      8\u001b[0m \u001b[0;34m\u001b[0m\u001b[0m\n\u001b[0;32m----> 9\u001b[0;31m     \u001b[0msigm_value_x\u001b[0m\u001b[0;34m=\u001b[0m\u001b[0;36m1\u001b[0m\u001b[0;34m/\u001b[0m\u001b[0;34m(\u001b[0m\u001b[0;36m1\u001b[0m\u001b[0;34m+\u001b[0m\u001b[0mnp\u001b[0m\u001b[0;34m.\u001b[0m\u001b[0mexp\u001b[0m\u001b[0;34m(\u001b[0m\u001b[0;34m-\u001b[0m\u001b[0mx\u001b[0m\u001b[0;34m)\u001b[0m\u001b[0;34m)\u001b[0m\u001b[0;34m\u001b[0m\u001b[0;34m\u001b[0m\u001b[0m\n\u001b[0m\u001b[1;32m     10\u001b[0m     \u001b[0;32mreturn\u001b[0m \u001b[0msigm_value_x\u001b[0m\u001b[0;34m\u001b[0m\u001b[0;34m\u001b[0m\u001b[0m\n\u001b[1;32m     11\u001b[0m \u001b[0;34m\u001b[0m\u001b[0m\n",
      "\u001b[0;31mKeyboardInterrupt\u001b[0m: "
     ]
    }
   ],
   "source": [
    "from sklearn.linear_model import SGDClassifier\n",
    "al=[0.001,0.01, 0.05]\n",
    "Cs=[ 50, 100, 500, 1000,5000]\n",
    "epoch=[5,10,20,50]\n",
    "batchs=[1, 5, 10, 50, 500, 1000,5000]\n",
    "res = []\n",
    "for a in al:\n",
    "    for ci in Cs:\n",
    "        for e in epoch:\n",
    "            for batch in batchs:\n",
    "                myclf = MySGDClassifier(batch_generator, alpha=a, C=ci,max_epoch=e, model_type='log_reg', batch_size=batch)\n",
    "                myclf.fit(X1, y1)\n",
    "                res.append([f1_score(y2, myclf.predict(X2)), a, ci, e, batch])\n",
    "                print(f1_score(y2, myclf.predict(X2)), a, ci, e, batch)"
   ]
  },
  {
   "cell_type": "code",
   "execution_count": 254,
   "metadata": {},
   "outputs": [
    {
     "data": {
      "text/plain": [
       "array([6.50180941e-01, 1.00000000e-03, 5.00000000e+03, 5.00000000e+01,\n",
       "       5.00000000e+00])"
      ]
     },
     "execution_count": 254,
     "metadata": {},
     "output_type": "execute_result"
    }
   ],
   "source": [
    "re = np.array(res)\n",
    "re[np.argmax(re[:,:1])]"
   ]
  },
  {
   "cell_type": "code",
   "execution_count": 346,
   "metadata": {},
   "outputs": [
    {
     "data": {
      "text/plain": [
       "MySGDClassifier(C=2, alpha=0.001,\n",
       "                batch_generator=<function batch_generator at 0x7f6b25dc38c0>,\n",
       "                batch_size=10, max_epoch=70, model_type='log_reg')"
      ]
     },
     "execution_count": 346,
     "metadata": {},
     "output_type": "execute_result"
    }
   ],
   "source": [
    "myclf = MySGDClassifier(batch_generator, alpha=0.001, C=2,max_epoch=70, model_type='log_reg', batch_size=10)\n",
    "myclf.fit(X_train, y_train)"
   ]
  },
  {
   "cell_type": "code",
   "execution_count": 347,
   "metadata": {},
   "outputs": [],
   "source": [
    "y_pred = myclf.predict(X_test)"
   ]
  },
  {
   "cell_type": "code",
   "execution_count": 348,
   "metadata": {},
   "outputs": [
    {
     "data": {
      "text/plain": [
       "4784"
      ]
     },
     "execution_count": 348,
     "metadata": {},
     "output_type": "execute_result"
    }
   ],
   "source": [
    "np.sum(y_pred)"
   ]
  },
  {
   "cell_type": "markdown",
   "metadata": {},
   "source": [
    "Разбейте данные на обучение и валидацию. Подберите параметры C, alpha, max_epoch, model_type на валидации (Вы же помните, как правильно в этой задаче делать валидацию?)"
   ]
  },
  {
   "cell_type": "code",
   "execution_count": 207,
   "metadata": {},
   "outputs": [
    {
     "name": "stderr",
     "output_type": "stream",
     "text": [
      "/home/linuxconfig/anaconda3/envs/techno_code/lib/python3.7/site-packages/ipykernel_launcher.py:43: RuntimeWarning: overflow encountered in square\n",
      "/home/linuxconfig/anaconda3/envs/techno_code/lib/python3.7/site-packages/ipykernel_launcher.py:45: RuntimeWarning: overflow encountered in square\n",
      "/home/linuxconfig/anaconda3/envs/techno_code/lib/python3.7/site-packages/ipykernel_launcher.py:62: RuntimeWarning: overflow encountered in multiply\n",
      "/home/linuxconfig/anaconda3/envs/techno_code/lib/python3.7/site-packages/ipykernel_launcher.py:75: RuntimeWarning: invalid value encountered in subtract\n",
      "/home/linuxconfig/anaconda3/envs/techno_code/lib/python3.7/site-packages/ipykernel_launcher.py:109: RuntimeWarning: invalid value encountered in greater\n"
     ]
    }
   ],
   "source": [
    "al=[0.001,0.01, 0.05]\n",
    "Cs=[ 50, 100, 500, 1000,5000]\n",
    "epoch=[5,10,20]\n",
    "batchs=[1, 5, 10, 50, 500, 1000,5000]\n",
    "res = []\n",
    "for a in al:\n",
    "    for ci in Cs:\n",
    "        for e in epoch:\n",
    "            for batch in batchs:\n",
    "                myclf = MySGDClassifier(batch_generator, alpha=a, C=ci,max_epoch=e, model_type='lin_reg', batch_size=batch)\n",
    "                myclf.fit(X1, y1)\n",
    "                res.append([f1_score(y2, myclf.predict(X2)), a, ci, e, batch])"
   ]
  },
  {
   "cell_type": "code",
   "execution_count": 208,
   "metadata": {},
   "outputs": [
    {
     "data": {
      "text/plain": [
       "array([ 0.63003851,  0.05      , 50.        , 10.        , 50.        ])"
      ]
     },
     "execution_count": 208,
     "metadata": {},
     "output_type": "execute_result"
    }
   ],
   "source": [
    "re = np.array(res)\n",
    "re[np.argmax(re[:,:1])]"
   ]
  },
  {
   "cell_type": "code",
   "execution_count": null,
   "metadata": {},
   "outputs": [],
   "source": [
    "from sklearn.model_selection import cross_validate\n",
    "import sklearn"
   ]
  },
  {
   "cell_type": "code",
   "execution_count": 210,
   "metadata": {},
   "outputs": [],
   "source": [
    "#myclf = MySGDClassifier(batch_generator, alpha=0.01, C=1000,max_epoch=10, model_type='log_reg', batch_size=1000)\n",
    "#myclf.fit(X_train,y_train)\n",
    "ans0 = pd.DataFrame({'pair_id':pair_ids, 'target': myclf.predict(X_test)})\n",
    "ans0.to_csv('out0',index=False,encoding = 'utf-8', sep = ',')"
   ]
  },
  {
   "cell_type": "code",
   "execution_count": 349,
   "metadata": {},
   "outputs": [],
   "source": [
    "file = open(\"out1.csv\", \"wb\")\n",
    "file.write( bytes(str(\"pair_id,target\\n\"), \"utf-8\"))\n",
    "myclf = MySGDClassifier(batch_generator, alpha=0.01, C=1000,max_epoch=10, model_type='log_reg', batch_size=1000)\n",
    "myclf.fit(X1, y1)\n",
    "res = myclf.predict(X_test)\n",
    "for k,pair_id in enumerate(pair_ids):\n",
    "    file.write(bytes(str(pair_id) + \",\" +str(y_pred[k]) + str(\"\\n\"), \"utf-8\"))\n",
    "file.close()"
   ]
  },
  {
   "cell_type": "markdown",
   "metadata": {
    "collapsed": true
   },
   "source": [
    "Подберите порог линейной модели, по достижении которого, Вы будете относить объект к классу 1. Вспомните, какую метрику мы оптимизируем в соревновании.  Как тогда правильно подобрать порог?"
   ]
  },
  {
   "cell_type": "code",
   "execution_count": null,
   "metadata": {},
   "outputs": [
    {
     "name": "stdout",
     "output_type": "stream",
     "text": [
      "0.45491923641703375\n",
      "0.45491923641703375\n",
      "0.45491923641703375\n",
      "0.45491923641703375\n",
      "0.45491923641703375\n",
      "0.45491923641703375\n",
      "0.45491923641703375\n",
      "0.45491923641703375\n",
      "0.45491923641703375\n",
      "0.45491923641703375\n",
      "0.45491923641703375\n",
      "0.45491923641703375\n",
      "0.45491923641703375\n",
      "0.45491923641703375\n",
      "0.45491923641703375\n",
      "0.45491923641703375\n",
      "0.45491923641703375\n",
      "0.45491923641703375\n",
      "0.45491923641703375\n",
      "0.45491923641703375\n",
      "0.45491923641703375\n",
      "0.45491923641703375\n",
      "0.45491923641703375\n",
      "0.45271363435799383\n",
      "0.45491923641703375\n",
      "0.45491923641703375\n",
      "0.45491923641703375\n",
      "0.45491923641703375\n",
      "0.45491923641703375\n",
      "0.45491923641703375\n",
      "0.45491923641703375\n",
      "0.45491923641703375\n",
      "0.45491923641703375\n",
      "0.45491923641703375\n",
      "0.45491923641703375\n",
      "0.45491923641703375\n",
      "0.45491923641703375\n",
      "0.45491923641703375\n",
      "0.45491923641703375\n",
      "0.45491923641703375\n",
      "0.45491923641703375\n",
      "0.45491923641703375\n",
      "0.45491923641703375\n",
      "0.45491923641703375\n",
      "0.45491923641703375\n",
      "0.45491923641703375\n",
      "0.45491923641703375\n",
      "0.45491923641703375\n",
      "0.45491923641703375\n",
      "0.45491923641703375\n",
      "0.45491923641703375\n",
      "0.45491923641703375\n",
      "0.45491923641703375\n",
      "0.45491923641703375\n",
      "0.45491923641703375\n",
      "0.45491923641703375\n",
      "0.45491923641703375\n",
      "0.45491923641703375\n",
      "0.45491923641703375\n",
      "0.45491923641703375\n",
      "0.4550528789659224\n",
      "0.45491923641703375\n",
      "0.45491923641703375\n",
      "0.34142368463919204\n",
      "0.45491923641703375\n",
      "0.4879227053140097\n",
      "0.5035581158929177\n",
      "0.45491923641703375\n",
      "0.4551866000587717\n",
      "0.5058219178082192\n",
      "0.4881202521415872\n",
      "0.4561662000884043\n",
      "0.45491923641703375\n",
      "0.45491923641703375\n",
      "0.45491923641703375\n",
      "0.4966799468791501\n",
      "0.48329621380846316\n",
      "0.5059910989387196\n",
      "0.5203488372093023\n",
      "0.5163468372423595\n",
      "0.5215485756026297\n",
      "0.46781644595010774\n"
     ]
    }
   ],
   "source": [
    "myclf_calib = MySGDClassifier(batch_generator, alpha=0.05, C=50,max_epoch=10, model_type='lin_reg', batch_size=50)\n",
    "for i in np.arange(-0.7,0.7,0.01):\n",
    "    myclf_calib.fit(X1,y1)\n",
    "    print(f1_score(y2, myclf_calib.predict(X2,i)))"
   ]
  },
  {
   "cell_type": "markdown",
   "metadata": {},
   "source": [
    "С лучшими параметрами на валидации сделайте предсказание на тестовом множестве, отправьте его на проверку на платформу kaggle. Убедитесь, что Вы смогли побить public score первого бейзлайна."
   ]
  },
  {
   "cell_type": "markdown",
   "metadata": {
    "collapsed": true
   },
   "source": [
    "** При сдаче домашки Вам необходимо кроме ссылки на ноутбук показать Ваш ник на kaggle, под которым Вы залили решение, которое побило Handmade baseline. **"
   ]
  },
  {
   "cell_type": "code",
   "execution_count": null,
   "metadata": {
    "collapsed": true
   },
   "outputs": [],
   "source": []
  },
  {
   "cell_type": "markdown",
   "metadata": {},
   "source": [
    "# Фидбек (бесценно)"
   ]
  },
  {
   "cell_type": "markdown",
   "metadata": {},
   "source": [
    "* Какие аспекты обучения линейных моделей Вам показались непонятными? Какое место стоит дополнительно объяснить?"
   ]
  },
  {
   "cell_type": "markdown",
   "metadata": {},
   "source": [
    "***Ваше ответ здесь***"
   ]
  },
  {
   "cell_type": "markdown",
   "metadata": {},
   "source": [
    "* Здесь Вы можете оставить отзыв о этой домашней работе или о всем курсе.   "
   ]
  },
  {
   "cell_type": "markdown",
   "metadata": {},
   "source": [
    "*** ВАШ ОТЗЫВ ЗДЕСЬ***"
   ]
  },
  {
   "cell_type": "code",
   "execution_count": null,
   "metadata": {
    "collapsed": true
   },
   "outputs": [],
   "source": []
  },
  {
   "cell_type": "code",
   "execution_count": null,
   "metadata": {
    "collapsed": true
   },
   "outputs": [],
   "source": []
  }
 ],
 "metadata": {
  "anaconda-cloud": {},
  "kernelspec": {
   "display_name": "Python 3",
   "language": "python",
   "name": "python3"
  },
  "language_info": {
   "codemirror_mode": {
    "name": "ipython",
    "version": 3
   },
   "file_extension": ".py",
   "mimetype": "text/x-python",
   "name": "python",
   "nbconvert_exporter": "python",
   "pygments_lexer": "ipython3",
   "version": "3.7.6"
  },
  "nav_menu": {},
  "toc": {
   "base_numbering": 1,
   "nav_menu": {
    "height": "402px",
    "width": "253px"
   },
   "number_sections": false,
   "sideBar": true,
   "skip_h1_title": false,
   "title_cell": "Table of Contents",
   "title_sidebar": "Contents",
   "toc_cell": false,
   "toc_position": {},
   "toc_section_display": "block",
   "toc_window_display": false
  }
 },
 "nbformat": 4,
 "nbformat_minor": 2
}
